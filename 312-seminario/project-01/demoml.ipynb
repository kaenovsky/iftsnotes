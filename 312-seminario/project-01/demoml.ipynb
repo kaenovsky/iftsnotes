{
  "nbformat": 4,
  "nbformat_minor": 0,
  "metadata": {
    "colab": {
      "provenance": []
    },
    "kernelspec": {
      "name": "python3",
      "display_name": "Python 3"
    },
    "language_info": {
      "name": "python"
    }
  },
  "cells": [
    {
      "cell_type": "code",
      "execution_count": 38,
      "metadata": {
        "id": "VC066Q1hp8Gm"
      },
      "outputs": [],
      "source": [
        "import tensorflow as tf\n",
        "import numpy as np\n",
        "\n",
        "inputData = np.array([1, 9, 15, 30]) # km\n",
        "outputData = np.array([0.6213, 6.213, 9.3205, 18.64]) # millas"
      ]
    },
    {
      "cell_type": "markdown",
      "source": [
        "Convertir km en millas. 1 km son 0.6213 millas"
      ],
      "metadata": {
        "id": "q77yybmRqIiS"
      }
    },
    {
      "cell_type": "code",
      "source": [
        "layer = tf.keras.layers.Dense(units=1, input_shape=[1])"
      ],
      "metadata": {
        "id": "t1P0MKq6qRfc"
      },
      "execution_count": 11,
      "outputs": []
    },
    {
      "cell_type": "markdown",
      "source": [
        "Defino una sola capa de entrada (input) y una capa de salida. Layers Dense."
      ],
      "metadata": {
        "id": "dG0BYam_tOlJ"
      }
    },
    {
      "cell_type": "code",
      "source": [
        "model = tf.keras.Sequential([layer])\n",
        "model.compile(tf.keras.optimizers.Adam(0.1), loss='mean_squared_error')"
      ],
      "metadata": {
        "id": "RESl0YE1slvs"
      },
      "execution_count": 26,
      "outputs": []
    },
    {
      "cell_type": "markdown",
      "source": [
        "Trabajo con el modelo secuencial, el más simple para redes con pocas capas. Defino el tipo de optimizador y la función de mérdida, error cuadrático medio."
      ],
      "metadata": {
        "id": "iLJMIoqktLx3"
      }
    },
    {
      "cell_type": "code",
      "source": [
        "# Acá entrenamos el modelo\n",
        "print(layer)\n",
        "print(model)\n",
        "\n",
        "model.fit(inputData, outputData, epochs=3000, verbose=False)\n",
        "print(inputData, outputData)"
      ],
      "metadata": {
        "colab": {
          "base_uri": "https://localhost:8080/"
        },
        "id": "PdmBvYhpt2kP",
        "outputId": "cd932684-bb5d-499b-d8e4-cd05903e9d4b"
      },
      "execution_count": 39,
      "outputs": [
        {
          "output_type": "stream",
          "name": "stdout",
          "text": [
            "<keras.src.layers.core.dense.Dense object at 0x78bef28e0640>\n",
            "<keras.src.engine.sequential.Sequential object at 0x78beea12db40>\n",
            "[ 1  9 15 30] [ 0.6213  6.213   9.3205 18.64  ]\n"
          ]
        }
      ]
    },
    {
      "cell_type": "code",
      "source": [
        "km = 82\n",
        "print(km, \" km predecidos son: \", model.predict([km]), \" millas\")\n"
      ],
      "metadata": {
        "colab": {
          "base_uri": "https://localhost:8080/"
        },
        "id": "t9sIauHLwf79",
        "outputId": "a6f29fbb-b4db-44c1-b32c-63d7861e4ed7"
      },
      "execution_count": 40,
      "outputs": [
        {
          "output_type": "stream",
          "name": "stdout",
          "text": [
            "1/1 [==============================] - 0s 50ms/step\n",
            "82  km predecidos son:  [[50.658237]]  millas\n"
          ]
        }
      ]
    }
  ]
}